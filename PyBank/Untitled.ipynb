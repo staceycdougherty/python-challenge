{
 "cells": [
  {
   "cell_type": "code",
   "execution_count": 7,
   "metadata": {},
   "outputs": [
    {
     "ename": "SyntaxError",
     "evalue": "invalid syntax (<ipython-input-7-9510db8d28c9>, line 35)",
     "output_type": "error",
     "traceback": [
      "\u001b[0;36m  File \u001b[0;32m\"<ipython-input-7-9510db8d28c9>\"\u001b[0;36m, line \u001b[0;32m35\u001b[0m\n\u001b[0;31m    if number_of_differences <> 0\u001b[0m\n\u001b[0m                              ^\u001b[0m\n\u001b[0;31mSyntaxError\u001b[0m\u001b[0;31m:\u001b[0m invalid syntax\n"
     ]
    }
   ],
   "source": [
    "import os\n",
    "import csv\n",
    "import numpy as np\n",
    "\n",
    "# path to collect data from budget file\n",
    "budget_csv = os.path.join('budget_data.csv')\n",
    "\n",
    "#set lists\n",
    "dates = []\n",
    "profits = []\n",
    "\n",
    "#read the csv file\n",
    "with open(budget_csv, 'r') as csvfile:\n",
    "    #split data on comma\n",
    "    csvreader = csv.reader(csvfile, delimiter= ',')\n",
    "    \n",
    "    #read header row\n",
    "    csv_header = next(csvfile)\n",
    "    \n",
    "    for row in csv.reader(csvfile):\n",
    "    #read everything after header row\n",
    "        dates.append(row[0])\n",
    "        profits.append(int(row[1]))\n",
    "        #count number of months\n",
    "        number_of_months = len(dates)\n",
    "        #total profits\n",
    "        total_profits = sum(profits)\n",
    "        #find difference between each number\n",
    "        difference = np.diff(profits)\n",
    "        #find total difference\n",
    "        total_difference = sum(difference)\n",
    "        #get number of differences\n",
    "        number_of_differences = (number_of_months) - (1)\n",
    "        # find average difference\n",
    "        if number_of_differences <> 0 \n",
    "        average_difference = total_difference / (number_of_differences)\n",
    "\n",
    "\n",
    "\n",
    "\n",
    "print(f\"Financial Analysis\")\n",
    "print(f\"----------------------------------\")\n",
    "print(f\"Total Months: \",number_of_months)\n",
    "print(f\"Total Profit: $\",total_profits)\n",
    "print(f\"Average Difference: \", number_of_differences)\n"
   ]
  },
  {
   "cell_type": "code",
   "execution_count": null,
   "metadata": {},
   "outputs": [],
   "source": []
  }
 ],
 "metadata": {
  "kernelspec": {
   "display_name": "Python [conda env:Virtual_Env] *",
   "language": "python",
   "name": "conda-env-Virtual_Env-py"
  },
  "language_info": {
   "codemirror_mode": {
    "name": "ipython",
    "version": 3
   },
   "file_extension": ".py",
   "mimetype": "text/x-python",
   "name": "python",
   "nbconvert_exporter": "python",
   "pygments_lexer": "ipython3",
   "version": "3.6.10"
  }
 },
 "nbformat": 4,
 "nbformat_minor": 4
}
