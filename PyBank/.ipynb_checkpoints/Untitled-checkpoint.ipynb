{
 "cells": [
  {
   "cell_type": "code",
   "execution_count": 5,
   "metadata": {},
   "outputs": [
    {
     "ename": "ZeroDivisionError",
     "evalue": "division by zero",
     "output_type": "error",
     "traceback": [
      "\u001b[0;31m---------------------------------------------------------------------------\u001b[0m",
      "\u001b[0;31mZeroDivisionError\u001b[0m                         Traceback (most recent call last)",
      "\u001b[0;32m<ipython-input-5-e3c772f6373c>\u001b[0m in \u001b[0;36m<module>\u001b[0;34m\u001b[0m\n\u001b[1;32m     33\u001b[0m         \u001b[0mnumber_of_differences\u001b[0m \u001b[0;34m=\u001b[0m \u001b[0;34m(\u001b[0m\u001b[0mnumber_of_months\u001b[0m\u001b[0;34m)\u001b[0m \u001b[0;34m-\u001b[0m \u001b[0;34m(\u001b[0m\u001b[0;36m1\u001b[0m\u001b[0;34m)\u001b[0m\u001b[0;34m\u001b[0m\u001b[0;34m\u001b[0m\u001b[0m\n\u001b[1;32m     34\u001b[0m         \u001b[0;31m# find average difference\u001b[0m\u001b[0;34m\u001b[0m\u001b[0;34m\u001b[0m\u001b[0;34m\u001b[0m\u001b[0m\n\u001b[0;32m---> 35\u001b[0;31m         \u001b[0maverage_difference\u001b[0m \u001b[0;34m=\u001b[0m \u001b[0mtotal_difference\u001b[0m\u001b[0;34m/\u001b[0m\u001b[0mnumber_of_differences\u001b[0m\u001b[0;34m\u001b[0m\u001b[0;34m\u001b[0m\u001b[0m\n\u001b[0m\u001b[1;32m     36\u001b[0m \u001b[0;34m\u001b[0m\u001b[0m\n\u001b[1;32m     37\u001b[0m \u001b[0;34m\u001b[0m\u001b[0m\n",
      "\u001b[0;31mZeroDivisionError\u001b[0m: division by zero"
     ]
    }
   ],
   "source": [
    "import os\n",
    "import csv\n",
    "import numpy as np\n",
    "\n",
    "# path to collect data from budget file\n",
    "budget_csv = os.path.join('budget_data.csv')\n",
    "\n",
    "#set lists\n",
    "dates = []\n",
    "profits = []\n",
    "\n",
    "#read the csv file\n",
    "with open(budget_csv, 'r') as csvfile:\n",
    "    #split data on comma\n",
    "    csvreader = csv.reader(csvfile, delimiter= ',')\n",
    "    \n",
    "    #read header row\n",
    "    csv_header = next(csvfile)\n",
    "    \n",
    "    for row in csv.reader(csvfile):\n",
    "    #read everything after header row\n",
    "        dates.append(row[0])\n",
    "        profits.append(int(row[1]))\n",
    "        #count number of months\n",
    "        number_of_months = len(dates)\n",
    "        #total profits\n",
    "        total_profits = sum(profits)\n",
    "        #find difference between each number\n",
    "        difference = np.diff(profits)\n",
    "        #find total difference\n",
    "        total_difference = sum(difference)\n",
    "        #get number of differences\n",
    "        number_of_differences = (number_of_months) - (1)\n",
    "        # find average difference\n",
    "        if number_of_differences <> 0 then\n",
    "        average_difference = total_difference / (number_of_differences)\n",
    "\n",
    "\n",
    "\n",
    "\n",
    "print(f\"Financial Analysis\")\n",
    "print(f\"----------------------------------\")\n",
    "print(f\"Total Months: \",number_of_months)\n",
    "print(f\"Total Profit: $\",total_profits)\n",
    "print(f\"Average Difference: \", number_of_differences)\n"
   ]
  },
  {
   "cell_type": "code",
   "execution_count": null,
   "metadata": {},
   "outputs": [],
   "source": []
  }
 ],
 "metadata": {
  "kernelspec": {
   "display_name": "Python [conda env:Virtual_Env] *",
   "language": "python",
   "name": "conda-env-Virtual_Env-py"
  },
  "language_info": {
   "codemirror_mode": {
    "name": "ipython",
    "version": 3
   },
   "file_extension": ".py",
   "mimetype": "text/x-python",
   "name": "python",
   "nbconvert_exporter": "python",
   "pygments_lexer": "ipython3",
   "version": "3.6.10"
  }
 },
 "nbformat": 4,
 "nbformat_minor": 4
}
